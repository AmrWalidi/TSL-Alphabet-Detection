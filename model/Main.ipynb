{
 "cells": [
  {
   "metadata": {},
   "cell_type": "code",
   "source": "!nvidia-smi",
   "id": "76fd7e417ab8b5df",
   "outputs": [],
   "execution_count": null
  },
  {
   "cell_type": "code",
   "id": "9e60f2d5917842af",
   "metadata": {},
   "source": [
    "import os\n",
    "import random\n",
    "import shutil\n",
    "from PIL import Image\n",
    "\n",
    "base_dir = \"dataset\"\n",
    "image_base = os.path.join(base_dir, \"images\")\n",
    "label_base = os.path.join(base_dir, \"labels\")"
   ],
   "outputs": [],
   "execution_count": null
  },
  {
   "metadata": {},
   "cell_type": "code",
   "source": [
    "splits = [\"train\", \"val\"]\n",
    "split_ratio = 0.8"
   ],
   "id": "36685629efacac57",
   "outputs": [],
   "execution_count": null
  },
  {
   "metadata": {},
   "cell_type": "code",
   "source": [
    "all_images = [f for f in os.listdir(image_base) if f.lower().endswith(('.jpg', '.jpeg', '.png'))]\n",
    "random.shuffle(all_images)\n",
    "\n",
    "split_index = int(len(all_images) * split_ratio)\n",
    "split_data = {\n",
    "    \"train\": all_images[:split_index],\n",
    "    \"val\": all_images[split_index:]\n",
    "}\n",
    "\n",
    "for split in splits:\n",
    "    split_image_folder = os.path.join(image_base, split)\n",
    "    os.makedirs(split_image_folder, exist_ok=True)\n",
    "    for image_file in split_data[split]:\n",
    "        src = os.path.join(image_base, image_file)\n",
    "        dst = os.path.join(split_image_folder, image_file)\n",
    "        shutil.move(src, dst)"
   ],
   "id": "ab50526912d87b7b",
   "outputs": [],
   "execution_count": null
  },
  {
   "metadata": {},
   "cell_type": "code",
   "source": [
    "import cv2\n",
    "import numpy as np\n",
    "\n",
    "image_size = 400\n",
    "\n",
    "base_path = f\"{base_dir}/images\"\n",
    "\n",
    "for split in splits:\n",
    "    folder_path = os.path.join(base_path, split)\n",
    "\n",
    "    for image_file in os.listdir(folder_path):\n",
    "        if not image_file.lower().endswith((\".jpg\", \".jpeg\", \".png\")):\n",
    "            continue\n",
    "\n",
    "        image_path = os.path.join(folder_path, image_file)\n",
    "        img = cv2.imread(image_path)\n",
    "\n",
    "        if img is None:\n",
    "            print(f\"❌ Couldn't read: {image_path}\")\n",
    "            continue\n",
    "\n",
    "        h, w = img.shape[:2]\n",
    "        img_white = np.ones((image_size, image_size, 3), np.uint8) * 255\n",
    "\n",
    "        aspect_ratio = h / w\n",
    "\n",
    "        try:\n",
    "            if aspect_ratio > 1:\n",
    "                scale = image_size / h\n",
    "                new_w = int(w * scale)\n",
    "                resized_img = cv2.resize(img, (new_w, image_size))\n",
    "                w_gap = (image_size - new_w) // 2\n",
    "                img_white[:, w_gap:w_gap + new_w] = resized_img\n",
    "            else:\n",
    "                scale = image_size / w\n",
    "                new_h = int(h * scale)\n",
    "                resized_img = cv2.resize(img, (image_size, new_h))\n",
    "                h_gap = (image_size - new_h) // 2\n",
    "                img_white[h_gap:h_gap + new_h, :] = resized_img\n",
    "\n",
    "            cv2.imwrite(image_path, img_white)\n",
    "\n",
    "        except Exception as e:\n",
    "            print(f\"❌ Error processing {image_path}: {e}\")\n"
   ],
   "id": "c4ee8432f7a6907d",
   "outputs": [],
   "execution_count": null
  },
  {
   "metadata": {},
   "cell_type": "code",
   "source": [
    "class_names = [\n",
    "    'A', 'B', 'C', '+', 'D', 'E', 'F', 'G', ',', 'H', 'I', '!', 'J',\n",
    "    'K', 'L', 'M', 'N', 'O', '_', 'P', 'R', 'S', ';', 'T', 'U', '=',\n",
    "    'V', 'Y', 'Z'\n",
    "]\n",
    "class_to_id = {name: idx for idx, name in enumerate(class_names)}"
   ],
   "id": "5cc1efd43d057649",
   "outputs": [],
   "execution_count": null
  },
  {
   "metadata": {},
   "cell_type": "code",
   "source": [
    "for split in splits:\n",
    "    image_folder = os.path.join(image_base, split)\n",
    "    label_folder = os.path.join(label_base, split)\n",
    "    os.makedirs(label_folder, exist_ok=True)\n",
    "\n",
    "    for image_file in os.listdir(image_folder):\n",
    "        if image_file.lower().endswith(('.jpg', '.jpeg', '.png')):\n",
    "            try:\n",
    "                image_path = os.path.join(image_folder, image_file)\n",
    "                with Image.open(image_path) as img:\n",
    "                    width, height = img.size\n",
    "\n",
    "                class_name = image_file[0]\n",
    "                if class_name not in class_to_id:\n",
    "                    print(f\"❌ Skipping unknown class: {class_name}\")\n",
    "                    continue\n",
    "\n",
    "                class_id = class_to_id[class_name]\n",
    "                x_center = 0.5\n",
    "                y_center = 0.5\n",
    "                norm_width = 1.0\n",
    "                norm_height = 1.0\n",
    "\n",
    "                label_line = f\"{class_id} {x_center} {y_center} {norm_width} {norm_height}\\n\"\n",
    "                label_filename = os.path.splitext(image_file)[0] + \".txt\"\n",
    "                label_path = os.path.join(label_folder, label_filename)\n",
    "\n",
    "                with open(label_path, \"w\") as f:\n",
    "                    f.write(label_line)\n",
    "\n",
    "            except Exception as e:\n",
    "                print(f\"❌ Failed to process {image_file}: {e}\")\n"
   ],
   "id": "3b139018fbc8c524",
   "outputs": [],
   "execution_count": null
  },
  {
   "metadata": {},
   "cell_type": "code",
   "source": [
    "from ultralytics import YOLO\n",
    "\n",
    "model = YOLO('yolov8n.pt')"
   ],
   "id": "ffa70ab8c94fcb16",
   "outputs": [],
   "execution_count": null
  },
  {
   "metadata": {},
   "cell_type": "code",
   "source": [
    "model.train(\n",
    "    data='dataset.yaml',\n",
    "    epochs=20,\n",
    "    batch=16,\n",
    "    imgsz=400,\n",
    "    project='tsl_project',\n",
    "    name='tsl_yolo_train',\n",
    "    exist_ok=True\n",
    ")"
   ],
   "id": "cef4e66bca3f19ab",
   "outputs": [],
   "execution_count": null
  }
 ],
 "metadata": {
  "kernelspec": {
   "display_name": "Python 3",
   "language": "python",
   "name": "python3"
  },
  "language_info": {
   "codemirror_mode": {
    "name": "ipython",
    "version": 2
   },
   "file_extension": ".py",
   "mimetype": "text/x-python",
   "name": "python",
   "nbconvert_exporter": "python",
   "pygments_lexer": "ipython2",
   "version": "2.7.6"
  }
 },
 "nbformat": 4,
 "nbformat_minor": 5
}
